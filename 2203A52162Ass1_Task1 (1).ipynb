{
  "nbformat": 4,
  "nbformat_minor": 0,
  "metadata": {
    "colab": {
      "provenance": []
    },
    "kernelspec": {
      "name": "python3",
      "display_name": "Python 3"
    },
    "language_info": {
      "name": "python"
    }
  },
  "cells": [
    {
      "cell_type": "code",
      "execution_count": null,
      "metadata": {
        "colab": {
          "base_uri": "https://localhost:8080/"
        },
        "id": "vChJJaQsE1yD",
        "outputId": "25be99d7-4d3e-4b5d-bbd5-293b93be9a1a"
      },
      "outputs": [
        {
          "output_type": "stream",
          "name": "stdout",
          "text": [
            "Type of list1: <class 'list'>\n",
            "Type of array1: <class 'numpy.ndarray'>\n",
            "\n",
            "Mathematical Operations:\n",
            "Multiplication: [ 9 14 30 12 80]\n",
            "Division: [0.11111111 3.5        0.83333333 0.75       1.25      ]\n",
            "Power Off: [81  4 36 16 64]\n",
            "\n",
            "Textual Output:\n",
            "['Addition of Two: [9 2 6 4 8] + [ 1  7  5  3 10]'\n",
            " 'array1 + array2 [9 2 6 4 8] + [ 1  7  5  3 10]']\n",
            "\n",
            "Trigonometric and Logarithmic Functions:\n",
            "np.sin(): [ 0.41211849  0.90929743 -0.2794155  -0.7568025   0.98935825]\n",
            "np.log(): [2.19722458 0.69314718 1.79175947 1.38629436 2.07944154]\n",
            "np.log2(): [3.169925  1.        2.5849625 2.        3.       ]\n",
            "np.exp(): [8.10308393e+03 7.38905610e+00 4.03428793e+02 5.45981500e+01\n",
            " 2.98095799e+03]\n"
          ]
        }
      ],
      "source": [
        "import numpy as np\n",
        "# 1. Lists\n",
        "list1 = [9, 2,6 , 4, 8]\n",
        "list2 = [1, 7, 5, 3, 10]\n",
        "# 2. Arrays\n",
        "array1 = np.array(list1)\n",
        "array2 = np.array(list2)\n",
        "# 3. Identify their type using type()\n",
        "print(\"Type of list1:\", type(list1))\n",
        "print(\"Type of array1:\", type(array1))\n",
        "# 4. Perform mathematical operations\n",
        "# 4.1 multiplication\n",
        "result_multiply = array1 * array2\n",
        "# 4.2 division\n",
        "result_divide = array2 / array1\n",
        "# 4.3 power off\n",
        "result_power = array1 ** 2\n",
        "# 4.4 Display results\n",
        "print(\"\\nMathematical Operations:\")\n",
        "print(\"Multiplication:\", result_multiply)\n",
        "print(\"Division:\", result_divide)\n",
        "print(\"Power Off:\", result_power)\n",
        "# 5. Combine text with NumPy function\n",
        "text_output = np.array([\"Addition of Two:\", \"array1 + array2\"])\n",
        "combined_text_output = np.core.defchararray.add(text_output, f\" {array1} + {array2}\")\n",
        "print(\"\\nTextual Output:\")\n",
        "print(combined_text_output)\n",
        "# 6. Implement np.sin(), log(), log2(), np.exp()\n",
        "sin_values = np.sin(array1)\n",
        "log_values = np.log(array1)\n",
        "log2_values = np.log2(array1)\n",
        "exp_values = np.exp(array1)\n",
        "\n",
        "print(\"\\nTrigonometric and Logarithmic Functions:\")\n",
        "print(\"np.sin():\", sin_values)\n",
        "print(\"np.log():\", log_values)\n",
        "print(\"np.log2():\", log2_values)\n",
        "print(\"np.exp():\", exp_values)"
      ]
    }
  ]
}